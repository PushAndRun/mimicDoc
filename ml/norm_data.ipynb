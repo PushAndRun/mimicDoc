{
 "cells": [
  {
   "cell_type": "code",
   "execution_count": 160,
   "id": "7301d823",
   "metadata": {},
   "outputs": [],
   "source": [
    "import numpy as np\n",
    "import matplotlib.pyplot as plt"
   ]
  },
  {
   "cell_type": "code",
   "execution_count": 161,
   "id": "0ff27ddd",
   "metadata": {},
   "outputs": [],
   "source": [
    "def read_admissions_from_file():\n",
    "    dataList = []\n",
    "    \n",
    "    with open(\"../db/admissions.csv\") as f:\n",
    "        for line in f:\n",
    "           dataList.append(line.strip('\\n').split(','))\n",
    "    \n",
    "    dataArray = np.asarray(dataList[0:10001])\n",
    "    \n",
    "    labels = dataArray[0]\n",
    "    data = dataArray[1:]\n",
    "            \n",
    "    return data, labels"
   ]
  },
  {
   "cell_type": "code",
   "execution_count": 162,
   "id": "8391918d",
   "metadata": {},
   "outputs": [],
   "source": [
    "X_raw, labels_raw = read_admissions_from_file()"
   ]
  },
  {
   "cell_type": "code",
   "execution_count": 163,
   "id": "88fba24e",
   "metadata": {},
   "outputs": [],
   "source": [
    "def convert_types(X_raw, labels_raw):\n",
    "    X_list = []\n",
    "    label_list = [\"age\", \"gender\", \"weight\", \"height\"]\n",
    "        \n",
    "    for i in range(X_raw.shape[0]):\n",
    "        x_list = []        \n",
    "        \n",
    "        # age ----------------------------------------------------\n",
    "        label = \"age\"\n",
    "        j = np.where(labels_raw == label)[0][0]\n",
    "        value = float(X_raw[i][j]) if (X_raw[i][j] != '') else -1\n",
    "        \n",
    "        if (value > 0) & (value < 200):\n",
    "            x_list.append(value)\n",
    "        else:\n",
    "            continue   \n",
    "            \n",
    "        # gender ------------------------------------------------\n",
    "        label = \"gender\"\n",
    "        j = np.where(labels_raw == label)[0][0]\n",
    "        \n",
    "        if X_raw[i][j] == 'M':\n",
    "            value = 1\n",
    "        elif X_raw[i][j] == 'F':\n",
    "            value = -1\n",
    "        else:\n",
    "            value = 0        \n",
    "        \n",
    "        if value != 0:\n",
    "            x_list.append(value)\n",
    "        else:\n",
    "            continue       \n",
    "        \n",
    "        # weight -------------------------------------------------\n",
    "        label = \"weight\"\n",
    "        j = np.where(labels_raw == label)[0][0]\n",
    "        value = float(X_raw[i][j]) if (X_raw[i][j] != '') else -1\n",
    "        \n",
    "        if (value > 0) & (value < 200):\n",
    "            x_list.append(value)\n",
    "        else:\n",
    "            continue\n",
    "            \n",
    "        # height -------------------------------------------------\n",
    "        label = \"height\"\n",
    "        j = np.where(labels_raw == label)[0][0]\n",
    "        value = float(X_raw[i][j]) if (X_raw[i][j] != '') else -1\n",
    "        \n",
    "        if (value > 0) & (value < 300):\n",
    "            x_list.append(value)\n",
    "        else:\n",
    "            continue\n",
    "            \n",
    "            \n",
    "        X_list.append(np.asarray(x_list))\n",
    "        \n",
    "    return np.asarray(X_list), np.asarray(label_list)"
   ]
  },
  {
   "cell_type": "code",
   "execution_count": 164,
   "id": "0dd86821",
   "metadata": {},
   "outputs": [
    {
     "data": {
      "text/plain": [
       "(3122, 4)"
      ]
     },
     "execution_count": 164,
     "metadata": {},
     "output_type": "execute_result"
    }
   ],
   "source": [
    "X, labels = convert_types(X_raw, labels_raw)\n",
    "X.shape"
   ]
  },
  {
   "cell_type": "code",
   "execution_count": 165,
   "id": "73813d27",
   "metadata": {},
   "outputs": [],
   "source": [
    "def norm_mean(X, labels, label: str):\n",
    "    i = np.where(labels == label)[0][0]\n",
    "    mean = X[:, i].mean()\n",
    "    X[:, i] = X[:, i] - mean\n",
    "    \n",
    "    return X"
   ]
  },
  {
   "cell_type": "code",
   "execution_count": 166,
   "id": "629a79e8",
   "metadata": {},
   "outputs": [],
   "source": [
    "def plot_distribution(X, labels, label: str):\n",
    "    i = labels == label\n",
    "    x = X[:, i]\n",
    "    \n",
    "    plt.figure(figsize=(14,5))\n",
    "    plt.hist(x, bins=32, rwidth=1, alpha=1, label=label, density=True)\n",
    "    plt.axvline(x= x.mean(), ls='--', c='r')\n",
    "    plt.title(f\"Distribution of {label}\", fontsize=20)\n",
    "    plt.show()"
   ]
  },
  {
   "cell_type": "code",
   "execution_count": 167,
   "id": "4ae5626d",
   "metadata": {},
   "outputs": [
    {
     "data": {
      "image/png": "[encoded data removed]",
      "text/plain": [
       "<Figure size 1008x360 with 1 Axes>"
      ]
     },
     "metadata": {
      "needs_background": "light"
     },
     "output_type": "display_data"
    }
   ],
   "source": [
    "X = norm_mean(X, labels, \"age\")\n",
    "plot_distribution(X, labels, \"age\")"
   ]
  },
  {
   "cell_type": "code",
   "execution_count": 168,
   "id": "280fd564",
   "metadata": {
    "scrolled": true
   },
   "outputs": [
    {
     "data": {
      "image/png": "[encoded data removed]",
      "text/plain": [
       "<Figure size 1008x360 with 1 Axes>"
      ]
     },
     "metadata": {
      "needs_background": "light"
     },
     "output_type": "display_data"
    }
   ],
   "source": [
    "X = norm_mean(X, labels, \"weight\")\n",
    "plot_distribution(X, labels, \"weight\")"
   ]
  },
  {
   "cell_type": "code",
   "execution_count": 169,
   "id": "a73a0da3",
   "metadata": {},
   "outputs": [
    {
     "data": {
      "image/png": "[encoded data removed]",
      "text/plain": [
       "<Figure size 1008x360 with 1 Axes>"
      ]
     },
     "metadata": {
      "needs_background": "light"
     },
     "output_type": "display_data"
    }
   ],
   "source": [
    "X = norm_mean(X, labels, \"gender\")\n",
    "plot_distribution(X, labels, \"gender\")"
   ]
  },
  {
   "cell_type": "code",
   "execution_count": 170,
   "id": "739ed090",
   "metadata": {
    "scrolled": true
   },
   "outputs": [
    {
     "data": {
      "image/png": "[encoded data removed]",
      "text/plain": [
       "<Figure size 1008x360 with 1 Axes>"
      ]
     },
     "metadata": {
      "needs_background": "light"
     },
     "output_type": "display_data"
    }
   ],
   "source": [
    "X = norm_mean(X, labels, \"height\")\n",
    "plot_distribution(X, labels, \"height\")"
   ]
  },
  {
   "cell_type": "code",
   "execution_count": null,
   "id": "4c91c91e",
   "metadata": {},
   "outputs": [],
   "source": []
  },
  {
   "cell_type": "code",
   "execution_count": null,
   "id": "6b83c0a5",
   "metadata": {},
   "outputs": [],
   "source": []
  }
 ],
 "metadata": {
  "kernelspec": {
   "display_name": "Python 3",
   "language": "python",
   "name": "python3"
  },
  "language_info": {
   "codemirror_mode": {
    "name": "ipython",
    "version": 3
   },
   "file_extension": ".py",
   "mimetype": "text/x-python",
   "name": "python",
   "nbconvert_exporter": "python",
   "pygments_lexer": "ipython3",
   "version": "3.9.4"
  }
 },
 "nbformat": 4,
 "nbformat_minor": 5
}
