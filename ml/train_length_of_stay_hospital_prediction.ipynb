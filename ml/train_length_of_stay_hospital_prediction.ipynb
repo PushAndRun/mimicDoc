{
 "cells": [
  {
   "cell_type": "code",
   "execution_count": 1,
   "metadata": {},
   "outputs": [
    {
     "name": "stderr",
     "output_type": "stream",
     "text": [
      "Matplotlib created a temporary config/cache directory at /tmp/matplotlib-55sith0l because the default path (/home/juliuswa/installed/apache-tomcat-9.0.30/.config/matplotlib) is not a writable directory; it is highly recommended to set the MPLCONFIGDIR environment variable to a writable directory, in particular to speed up the import of Matplotlib and to better support multiprocessing.\n"
     ]
    }
   ],
   "source": [
    "from __future__ import absolute_import, division, print_function, unicode_literals\n",
    "\n",
    "import numpy as np\n",
    "import pandas as pd\n",
    "import matplotlib.pyplot as plt\n",
    "from IPython.display import clear_output\n",
    "from six.moves import urllib\n",
    "from tensorflow.keras.layers import Input, Dense, Activation,Dropout\n",
    "from tensorflow.keras.models import Model\n",
    "from sklearn.model_selection import train_test_split\n",
    "from sklearn.preprocessing import StandardScaler\n",
    "import tensorflow.compat.v2.feature_column as fc\n",
    "from sklearn.metrics import mean_squared_error\n",
    "from math import sqrt\n",
    "from sklearn.preprocessing import MultiLabelBinarizer\n",
    "import tensorflow as tf\n",
    "import io\n",
    "from tensorflow import keras\n",
    "import seaborn as sns\n",
    "from tensorflow.keras.layers.experimental import preprocessing\n",
    "from tensorflow.keras import layers\n",
    "import pickle as pk\n",
    "from sklearn.decomposition import PCA as pca\n",
    "\n",
    "\n",
    "import os\n",
    "from os import path"
   ]
  },
  {
   "cell_type": "code",
   "execution_count": 41,
   "metadata": {},
   "outputs": [],
   "source": [
    "df_name = \"95\"\n",
    "layer1nodes = 32\n",
    "prefix = \"losh\"\n",
    "\n",
    "data_path = \"../../RoboDocData\"\n",
    "\n",
    "df_path = f\"{data_path}/{df_name}\"\n",
    "\n",
    "model_name = f\"df{df_name}_{prefix}_n{layer1nodes}\"\n",
    "\n",
    "model_path = f\"{df_path}/{model_name}\"\n",
    "\n",
    "if path.exists(model_path) == False:\n",
    "    os.makedirs(model_path)"
   ]
  },
  {
   "cell_type": "code",
   "execution_count": 42,
   "metadata": {},
   "outputs": [],
   "source": [
    "df = pd.read_pickle(f\"{df_path}/dataframe_{df_name}.pkl\")"
   ]
  },
  {
   "cell_type": "code",
   "execution_count": 43,
   "metadata": {
    "scrolled": true
   },
   "outputs": [
    {
     "data": {
      "text/html": [
       "<div>\n",
       "<style scoped>\n",
       "    .dataframe tbody tr th:only-of-type {\n",
       "        vertical-align: middle;\n",
       "    }\n",
       "\n",
       "    .dataframe tbody tr th {\n",
       "        vertical-align: top;\n",
       "    }\n",
       "\n",
       "    .dataframe thead th {\n",
       "        text-align: right;\n",
       "    }\n",
       "</style>\n",
       "<table border=\"1\" class=\"dataframe\">\n",
       "  <thead>\n",
       "    <tr style=\"text-align: right;\">\n",
       "      <th></th>\n",
       "      <th>age</th>\n",
       "      <th>gender</th>\n",
       "      <th>weight</th>\n",
       "      <th>height</th>\n",
       "      <th>heartrate_mean</th>\n",
       "      <th>heartrate_min</th>\n",
       "      <th>heartrate_max</th>\n",
       "      <th>meanbp_mean</th>\n",
       "      <th>meanbp_min</th>\n",
       "      <th>meanbp_max</th>\n",
       "      <th>...</th>\n",
       "      <th>1430</th>\n",
       "      <th>1431</th>\n",
       "      <th>1432</th>\n",
       "      <th>1433</th>\n",
       "      <th>1434</th>\n",
       "      <th>1435</th>\n",
       "      <th>1436</th>\n",
       "      <th>1437</th>\n",
       "      <th>length_of_stay_hospital</th>\n",
       "      <th>days_to_death</th>\n",
       "    </tr>\n",
       "  </thead>\n",
       "  <tbody>\n",
       "    <tr>\n",
       "      <th>count</th>\n",
       "      <td>4.924400e+04</td>\n",
       "      <td>4.924400e+04</td>\n",
       "      <td>4.924400e+04</td>\n",
       "      <td>4.924400e+04</td>\n",
       "      <td>4.924400e+04</td>\n",
       "      <td>4.924400e+04</td>\n",
       "      <td>4.924400e+04</td>\n",
       "      <td>4.924400e+04</td>\n",
       "      <td>4.924400e+04</td>\n",
       "      <td>4.924400e+04</td>\n",
       "      <td>...</td>\n",
       "      <td>4.924400e+04</td>\n",
       "      <td>4.924400e+04</td>\n",
       "      <td>4.924400e+04</td>\n",
       "      <td>4.924400e+04</td>\n",
       "      <td>4.924400e+04</td>\n",
       "      <td>4.924400e+04</td>\n",
       "      <td>4.924400e+04</td>\n",
       "      <td>4.924400e+04</td>\n",
       "      <td>49244.000000</td>\n",
       "      <td>21255.000000</td>\n",
       "    </tr>\n",
       "    <tr>\n",
       "      <th>mean</th>\n",
       "      <td>1.376529e-16</td>\n",
       "      <td>-4.472997e-18</td>\n",
       "      <td>-2.249845e-16</td>\n",
       "      <td>-3.220188e-15</td>\n",
       "      <td>-1.328597e-16</td>\n",
       "      <td>-6.738353e-17</td>\n",
       "      <td>-4.198124e-16</td>\n",
       "      <td>-4.812079e-17</td>\n",
       "      <td>-1.490518e-16</td>\n",
       "      <td>1.685174e-16</td>\n",
       "      <td>...</td>\n",
       "      <td>2.416861e-18</td>\n",
       "      <td>6.204479e-18</td>\n",
       "      <td>-6.456987e-18</td>\n",
       "      <td>6.312697e-18</td>\n",
       "      <td>8.440978e-18</td>\n",
       "      <td>-6.980039e-18</td>\n",
       "      <td>-1.017246e-17</td>\n",
       "      <td>1.446509e-17</td>\n",
       "      <td>9.998587</td>\n",
       "      <td>516.879652</td>\n",
       "    </tr>\n",
       "    <tr>\n",
       "      <th>std</th>\n",
       "      <td>1.000010e+00</td>\n",
       "      <td>1.000010e+00</td>\n",
       "      <td>1.000010e+00</td>\n",
       "      <td>1.000010e+00</td>\n",
       "      <td>1.000010e+00</td>\n",
       "      <td>1.000010e+00</td>\n",
       "      <td>1.000010e+00</td>\n",
       "      <td>1.000010e+00</td>\n",
       "      <td>1.000010e+00</td>\n",
       "      <td>1.000010e+00</td>\n",
       "      <td>...</td>\n",
       "      <td>1.000010e+00</td>\n",
       "      <td>1.000010e+00</td>\n",
       "      <td>1.000010e+00</td>\n",
       "      <td>1.000010e+00</td>\n",
       "      <td>1.000010e+00</td>\n",
       "      <td>1.000010e+00</td>\n",
       "      <td>1.000010e+00</td>\n",
       "      <td>1.000010e+00</td>\n",
       "      <td>10.813017</td>\n",
       "      <td>750.221614</td>\n",
       "    </tr>\n",
       "    <tr>\n",
       "      <th>min</th>\n",
       "      <td>-2.851934e+00</td>\n",
       "      <td>-1.132970e+00</td>\n",
       "      <td>-3.679127e+00</td>\n",
       "      <td>-7.147812e+00</td>\n",
       "      <td>-3.550184e+00</td>\n",
       "      <td>-4.713578e+00</td>\n",
       "      <td>-3.554936e+00</td>\n",
       "      <td>-5.408812e+00</td>\n",
       "      <td>-4.291754e+00</td>\n",
       "      <td>-3.160847e+00</td>\n",
       "      <td>...</td>\n",
       "      <td>-1.011195e+01</td>\n",
       "      <td>-1.408372e+01</td>\n",
       "      <td>-1.212122e+01</td>\n",
       "      <td>-1.220689e+01</td>\n",
       "      <td>-1.106136e+01</td>\n",
       "      <td>-1.343276e+01</td>\n",
       "      <td>-1.118252e+01</td>\n",
       "      <td>-1.342199e+01</td>\n",
       "      <td>0.000000</td>\n",
       "      <td>0.000000</td>\n",
       "    </tr>\n",
       "    <tr>\n",
       "      <th>25%</th>\n",
       "      <td>-6.603668e-01</td>\n",
       "      <td>-1.132970e+00</td>\n",
       "      <td>-6.307663e-01</td>\n",
       "      <td>-3.229577e-15</td>\n",
       "      <td>-7.227333e-01</td>\n",
       "      <td>-6.634670e-01</td>\n",
       "      <td>-6.935185e-01</td>\n",
       "      <td>-7.128912e-01</td>\n",
       "      <td>-5.491942e-01</td>\n",
       "      <td>-5.716831e-01</td>\n",
       "      <td>...</td>\n",
       "      <td>-2.298431e-01</td>\n",
       "      <td>-2.208323e-01</td>\n",
       "      <td>-1.891258e-01</td>\n",
       "      <td>-1.892323e-01</td>\n",
       "      <td>-2.147595e-01</td>\n",
       "      <td>-2.002300e-01</td>\n",
       "      <td>-2.149288e-01</td>\n",
       "      <td>-2.106077e-01</td>\n",
       "      <td>4.040000</td>\n",
       "      <td>18.000000</td>\n",
       "    </tr>\n",
       "    <tr>\n",
       "      <th>50%</th>\n",
       "      <td>8.937975e-02</td>\n",
       "      <td>8.826360e-01</td>\n",
       "      <td>2.633700e-03</td>\n",
       "      <td>-3.229577e-15</td>\n",
       "      <td>-8.013081e-02</td>\n",
       "      <td>-6.246120e-02</td>\n",
       "      <td>-1.115352e-01</td>\n",
       "      <td>-9.267527e-02</td>\n",
       "      <td>0.000000e+00</td>\n",
       "      <td>-1.852407e-01</td>\n",
       "      <td>...</td>\n",
       "      <td>-2.339129e-02</td>\n",
       "      <td>-2.367918e-02</td>\n",
       "      <td>5.557881e-03</td>\n",
       "      <td>5.530760e-03</td>\n",
       "      <td>-7.414739e-03</td>\n",
       "      <td>-6.611173e-04</td>\n",
       "      <td>-1.369576e-02</td>\n",
       "      <td>-1.639093e-02</td>\n",
       "      <td>6.920000</td>\n",
       "      <td>149.000000</td>\n",
       "    </tr>\n",
       "    <tr>\n",
       "      <th>75%</th>\n",
       "      <td>7.814535e-01</td>\n",
       "      <td>8.826360e-01</td>\n",
       "      <td>3.853540e-01</td>\n",
       "      <td>-3.229577e-15</td>\n",
       "      <td>6.267319e-01</td>\n",
       "      <td>6.053230e-01</td>\n",
       "      <td>6.159440e-01</td>\n",
       "      <td>6.161429e-01</td>\n",
       "      <td>5.515586e-01</td>\n",
       "      <td>3.171345e-01</td>\n",
       "      <td>...</td>\n",
       "      <td>1.709379e-01</td>\n",
       "      <td>1.732594e-01</td>\n",
       "      <td>1.908462e-01</td>\n",
       "      <td>1.898307e-01</td>\n",
       "      <td>1.798870e-01</td>\n",
       "      <td>2.031686e-01</td>\n",
       "      <td>1.797130e-01</td>\n",
       "      <td>1.750793e-01</td>\n",
       "      <td>11.940000</td>\n",
       "      <td>723.500000</td>\n",
       "    </tr>\n",
       "    <tr>\n",
       "      <th>max</th>\n",
       "      <td>1.531200e+00</td>\n",
       "      <td>8.826360e-01</td>\n",
       "      <td>1.013087e+01</td>\n",
       "      <td>3.580457e+01</td>\n",
       "      <td>5.060689e+00</td>\n",
       "      <td>4.678807e+00</td>\n",
       "      <td>8.569716e+00</td>\n",
       "      <td>6.729700e+00</td>\n",
       "      <td>4.881186e+00</td>\n",
       "      <td>7.504964e+00</td>\n",
       "      <td>...</td>\n",
       "      <td>1.276112e+01</td>\n",
       "      <td>1.608548e+01</td>\n",
       "      <td>1.394031e+01</td>\n",
       "      <td>1.876977e+01</td>\n",
       "      <td>1.423887e+01</td>\n",
       "      <td>1.494526e+01</td>\n",
       "      <td>1.618489e+01</td>\n",
       "      <td>1.635604e+01</td>\n",
       "      <td>294.660000</td>\n",
       "      <td>4166.000000</td>\n",
       "    </tr>\n",
       "  </tbody>\n",
       "</table>\n",
       "<p>8 rows × 1505 columns</p>\n",
       "</div>"
      ],
      "text/plain": [
       "                age        gender        weight        height  heartrate_mean  \\\n",
       "count  4.924400e+04  4.924400e+04  4.924400e+04  4.924400e+04    4.924400e+04   \n",
       "mean   1.376529e-16 -4.472997e-18 -2.249845e-16 -3.220188e-15   -1.328597e-16   \n",
       "std    1.000010e+00  1.000010e+00  1.000010e+00  1.000010e+00    1.000010e+00   \n",
       "min   -2.851934e+00 -1.132970e+00 -3.679127e+00 -7.147812e+00   -3.550184e+00   \n",
       "25%   -6.603668e-01 -1.132970e+00 -6.307663e-01 -3.229577e-15   -7.227333e-01   \n",
       "50%    8.937975e-02  8.826360e-01  2.633700e-03 -3.229577e-15   -8.013081e-02   \n",
       "75%    7.814535e-01  8.826360e-01  3.853540e-01 -3.229577e-15    6.267319e-01   \n",
       "max    1.531200e+00  8.826360e-01  1.013087e+01  3.580457e+01    5.060689e+00   \n",
       "\n",
       "       heartrate_min  heartrate_max   meanbp_mean    meanbp_min    meanbp_max  \\\n",
       "count   4.924400e+04   4.924400e+04  4.924400e+04  4.924400e+04  4.924400e+04   \n",
       "mean   -6.738353e-17  -4.198124e-16 -4.812079e-17 -1.490518e-16  1.685174e-16   \n",
       "std     1.000010e+00   1.000010e+00  1.000010e+00  1.000010e+00  1.000010e+00   \n",
       "min    -4.713578e+00  -3.554936e+00 -5.408812e+00 -4.291754e+00 -3.160847e+00   \n",
       "25%    -6.634670e-01  -6.935185e-01 -7.128912e-01 -5.491942e-01 -5.716831e-01   \n",
       "50%    -6.246120e-02  -1.115352e-01 -9.267527e-02  0.000000e+00 -1.852407e-01   \n",
       "75%     6.053230e-01   6.159440e-01  6.161429e-01  5.515586e-01  3.171345e-01   \n",
       "max     4.678807e+00   8.569716e+00  6.729700e+00  4.881186e+00  7.504964e+00   \n",
       "\n",
       "       ...          1430          1431          1432          1433  \\\n",
       "count  ...  4.924400e+04  4.924400e+04  4.924400e+04  4.924400e+04   \n",
       "mean   ...  2.416861e-18  6.204479e-18 -6.456987e-18  6.312697e-18   \n",
       "std    ...  1.000010e+00  1.000010e+00  1.000010e+00  1.000010e+00   \n",
       "min    ... -1.011195e+01 -1.408372e+01 -1.212122e+01 -1.220689e+01   \n",
       "25%    ... -2.298431e-01 -2.208323e-01 -1.891258e-01 -1.892323e-01   \n",
       "50%    ... -2.339129e-02 -2.367918e-02  5.557881e-03  5.530760e-03   \n",
       "75%    ...  1.709379e-01  1.732594e-01  1.908462e-01  1.898307e-01   \n",
       "max    ...  1.276112e+01  1.608548e+01  1.394031e+01  1.876977e+01   \n",
       "\n",
       "               1434          1435          1436          1437  \\\n",
       "count  4.924400e+04  4.924400e+04  4.924400e+04  4.924400e+04   \n",
       "mean   8.440978e-18 -6.980039e-18 -1.017246e-17  1.446509e-17   \n",
       "std    1.000010e+00  1.000010e+00  1.000010e+00  1.000010e+00   \n",
       "min   -1.106136e+01 -1.343276e+01 -1.118252e+01 -1.342199e+01   \n",
       "25%   -2.147595e-01 -2.002300e-01 -2.149288e-01 -2.106077e-01   \n",
       "50%   -7.414739e-03 -6.611173e-04 -1.369576e-02 -1.639093e-02   \n",
       "75%    1.798870e-01  2.031686e-01  1.797130e-01  1.750793e-01   \n",
       "max    1.423887e+01  1.494526e+01  1.618489e+01  1.635604e+01   \n",
       "\n",
       "       length_of_stay_hospital  days_to_death  \n",
       "count             49244.000000   21255.000000  \n",
       "mean                  9.998587     516.879652  \n",
       "std                  10.813017     750.221614  \n",
       "min                   0.000000       0.000000  \n",
       "25%                   4.040000      18.000000  \n",
       "50%                   6.920000     149.000000  \n",
       "75%                  11.940000     723.500000  \n",
       "max                 294.660000    4166.000000  \n",
       "\n",
       "[8 rows x 1505 columns]"
      ]
     },
     "execution_count": 43,
     "metadata": {},
     "output_type": "execute_result"
    }
   ],
   "source": [
    "df.describe()"
   ]
  },
  {
   "cell_type": "code",
   "execution_count": 44,
   "metadata": {},
   "outputs": [
    {
     "data": {
      "text/plain": [
       "0        0\n",
       "1        0\n",
       "2        0\n",
       "3        1\n",
       "4        0\n",
       "        ..\n",
       "49239    1\n",
       "49240    1\n",
       "49241    1\n",
       "49242    1\n",
       "49243    1\n",
       "Name: died_in_hospital, Length: 49244, dtype: object"
      ]
     },
     "execution_count": 44,
     "metadata": {},
     "output_type": "execute_result"
    }
   ],
   "source": [
    "df.pop('days_to_death')\n",
    "df.pop('died_in_hospital')"
   ]
  },
  {
   "cell_type": "code",
   "execution_count": 45,
   "metadata": {
    "scrolled": true
   },
   "outputs": [
    {
     "name": "stdout",
     "output_type": "stream",
     "text": [
      "train: 39395\n",
      "test: 9849\n"
     ]
    }
   ],
   "source": [
    "train_dataset = df.sample(frac=0.8, random_state=0)\n",
    "test_dataset = df.drop(train_dataset.index)\n",
    "\n",
    "train_features = train_dataset.copy()\n",
    "test_features = test_dataset.copy()\n",
    "\n",
    "train_labels = train_features.pop('length_of_stay_hospital')\n",
    "test_labels = test_features.pop('length_of_stay_hospital')\n",
    "\n",
    "print(f\"train: {len(train_labels)}\")\n",
    "print(f\"test: {len(test_labels)}\")"
   ]
  },
  {
   "cell_type": "markdown",
   "metadata": {},
   "source": [
    "## Define the model and metrics:"
   ]
  },
  {
   "cell_type": "code",
   "execution_count": 72,
   "metadata": {},
   "outputs": [],
   "source": [
    "METRICS = [\n",
    "    tf.keras.metrics.MeanSquaredError(name=\"mean_squared_error\", dtype=None),\n",
    "    tf.keras.losses.MeanAbsolutePercentageError(name=\"mape\")\n",
    "]\n",
    "\n",
    "def make_model(metrics=METRICS):\n",
    "    model = keras.Sequential([\n",
    "        layers.Dense(layer1nodes, activation='relu'),\n",
    "        keras.layers.Dropout(0.5),\n",
    "        layers.Dense(1)\n",
    "    ])\n",
    "\n",
    "    \n",
    "    model.compile(\n",
    "        loss=tf.keras.losses.MeanAbsolutePercentageError(),\n",
    "        optimizer=tf.keras.optimizers.Adam(0.001),\n",
    "        metrics=METRICS)\n",
    "    \n",
    "    return model\n",
    "\n"
   ]
  },
  {
   "cell_type": "code",
   "execution_count": 73,
   "metadata": {},
   "outputs": [],
   "source": [
    "early_stopping = tf.keras.callbacks.EarlyStopping(\n",
    "    monitor='mape', \n",
    "    verbose=1,\n",
    "    patience=24,\n",
    "    mode='min',\n",
    "    restore_best_weights=True)\n"
   ]
  },
  {
   "cell_type": "markdown",
   "metadata": {},
   "source": [
    "## Train model:"
   ]
  },
  {
   "cell_type": "code",
   "execution_count": 74,
   "metadata": {
    "scrolled": false
   },
   "outputs": [
    {
     "name": "stdout",
     "output_type": "stream",
     "text": [
      "Epoch 1/64\n",
      "985/985 [==============================] - 2s 2ms/step - loss: 141994.3906 - mean_squared_error: 176.5289 - mape: 141976.3594 - val_loss: 65.8763 - val_mean_squared_error: 157.0423 - val_mape: 66.0275\n",
      "Epoch 2/64\n",
      "985/985 [==============================] - 2s 2ms/step - loss: 41836.4180 - mean_squared_error: 153.0117 - mape: 41831.1172 - val_loss: 61.9149 - val_mean_squared_error: 147.3212 - val_mape: 61.9428\n",
      "Epoch 3/64\n",
      "985/985 [==============================] - 2s 2ms/step - loss: 218160.4688 - mean_squared_error: 144.7920 - mape: 218132.7812 - val_loss: 60.6088 - val_mean_squared_error: 139.5535 - val_mape: 60.5736\n",
      "Epoch 4/64\n",
      "985/985 [==============================] - 2s 2ms/step - loss: 285504.6562 - mean_squared_error: 140.6294 - mape: 285468.4375 - val_loss: 59.3768 - val_mean_squared_error: 134.9190 - val_mape: 59.3334\n",
      "Epoch 5/64\n",
      "985/985 [==============================] - 2s 2ms/step - loss: 883111.8750 - mean_squared_error: 137.7323 - mape: 882999.8125 - val_loss: 61.3752 - val_mean_squared_error: 135.4281 - val_mape: 61.3649\n",
      "Epoch 6/64\n",
      "985/985 [==============================] - 2s 2ms/step - loss: 1263693.3750 - mean_squared_error: 135.6829 - mape: 1263533.0000 - val_loss: 58.2020 - val_mean_squared_error: 131.5713 - val_mape: 58.1733\n",
      "Epoch 7/64\n",
      "985/985 [==============================] - 2s 2ms/step - loss: 700189.8125 - mean_squared_error: 132.6968 - mape: 700100.9375 - val_loss: 60.3666 - val_mean_squared_error: 131.7417 - val_mape: 60.3312\n",
      "Epoch 8/64\n",
      "985/985 [==============================] - 2s 2ms/step - loss: 134527.2812 - mean_squared_error: 132.7068 - mape: 134510.2188 - val_loss: 57.8397 - val_mean_squared_error: 126.4742 - val_mape: 57.8555\n",
      "Epoch 9/64\n",
      "985/985 [==============================] - 2s 2ms/step - loss: 404507.9375 - mean_squared_error: 128.9497 - mape: 404456.5938 - val_loss: 59.0009 - val_mean_squared_error: 128.3531 - val_mape: 58.9743\n",
      "Epoch 10/64\n",
      "985/985 [==============================] - 2s 2ms/step - loss: 1179640.5000 - mean_squared_error: 131.3247 - mape: 1179490.7500 - val_loss: 60.2361 - val_mean_squared_error: 128.1413 - val_mape: 60.2247\n",
      "Epoch 11/64\n",
      "985/985 [==============================] - 2s 2ms/step - loss: 225550.7344 - mean_squared_error: 130.2659 - mape: 225522.1094 - val_loss: 59.2176 - val_mean_squared_error: 121.3131 - val_mape: 59.3366\n",
      "Epoch 12/64\n",
      "985/985 [==============================] - 2s 2ms/step - loss: 471456.5000 - mean_squared_error: 128.5796 - mape: 471396.6875 - val_loss: 57.7363 - val_mean_squared_error: 124.8574 - val_mape: 57.7060\n",
      "Epoch 13/64\n",
      "985/985 [==============================] - 2s 2ms/step - loss: 355462.0625 - mean_squared_error: 126.1435 - mape: 355416.9688 - val_loss: 61.1967 - val_mean_squared_error: 121.7818 - val_mape: 61.1799\n",
      "Epoch 14/64\n",
      "985/985 [==============================] - 2s 2ms/step - loss: 2686938.5000 - mean_squared_error: 128.8734 - mape: 2686597.5000 - val_loss: 57.7072 - val_mean_squared_error: 125.4046 - val_mape: 57.6960\n",
      "Epoch 15/64\n",
      "985/985 [==============================] - 2s 2ms/step - loss: 941647.3750 - mean_squared_error: 128.4295 - mape: 941527.8750 - val_loss: 58.3861 - val_mean_squared_error: 123.4885 - val_mape: 58.3675\n",
      "Epoch 16/64\n",
      "985/985 [==============================] - 2s 2ms/step - loss: 1080311.7500 - mean_squared_error: 129.3089 - mape: 1080174.6250 - val_loss: 57.3097 - val_mean_squared_error: 126.7780 - val_mape: 57.2983\n",
      "Epoch 17/64\n",
      "985/985 [==============================] - 2s 2ms/step - loss: 183174.7812 - mean_squared_error: 130.4881 - mape: 183151.5312 - val_loss: 57.3869 - val_mean_squared_error: 126.7226 - val_mape: 57.3783\n",
      "Epoch 18/64\n",
      "985/985 [==============================] - 2s 2ms/step - loss: 390955.0312 - mean_squared_error: 130.1340 - mape: 390905.4062 - val_loss: 57.0697 - val_mean_squared_error: 126.0390 - val_mape: 57.0634\n",
      "Epoch 19/64\n",
      "985/985 [==============================] - 2s 2ms/step - loss: 121075.0391 - mean_squared_error: 130.0346 - mape: 121059.6797 - val_loss: 56.9726 - val_mean_squared_error: 126.4995 - val_mape: 56.9542\n",
      "Epoch 20/64\n",
      "985/985 [==============================] - 2s 2ms/step - loss: 386323.0625 - mean_squared_error: 130.7186 - mape: 386274.0312 - val_loss: 58.6852 - val_mean_squared_error: 128.7211 - val_mape: 58.6460\n",
      "Epoch 21/64\n",
      "985/985 [==============================] - 2s 2ms/step - loss: 135977.5625 - mean_squared_error: 130.6205 - mape: 135960.3125 - val_loss: 57.6069 - val_mean_squared_error: 128.0385 - val_mape: 57.5862\n",
      "Epoch 22/64\n",
      "985/985 [==============================] - 2s 2ms/step - loss: 491837.9062 - mean_squared_error: 130.0780 - mape: 491775.5000 - val_loss: 56.9664 - val_mean_squared_error: 125.6438 - val_mape: 56.9413\n",
      "Epoch 23/64\n",
      "985/985 [==============================] - 2s 2ms/step - loss: 89900.8984 - mean_squared_error: 128.6851 - mape: 89889.4844 - val_loss: 56.5426 - val_mean_squared_error: 125.5384 - val_mape: 56.5399\n",
      "Epoch 24/64\n",
      "985/985 [==============================] - 2s 2ms/step - loss: 891.3591 - mean_squared_error: 128.0544 - mape: 891.2532 - val_loss: 56.5025 - val_mean_squared_error: 124.0513 - val_mape: 56.4957\n",
      "Epoch 25/64\n",
      "985/985 [==============================] - 2s 2ms/step - loss: 300059.6250 - mean_squared_error: 129.1625 - mape: 300021.5625 - val_loss: 57.4564 - val_mean_squared_error: 126.0882 - val_mape: 57.4463\n",
      "Epoch 26/64\n",
      "985/985 [==============================] - 2s 2ms/step - loss: 499589.6875 - mean_squared_error: 128.3732 - mape: 499526.3125 - val_loss: 56.5966 - val_mean_squared_error: 124.5200 - val_mape: 56.6020\n",
      "Epoch 27/64\n",
      "985/985 [==============================] - 2s 2ms/step - loss: 176041.7500 - mean_squared_error: 129.4174 - mape: 176019.4062 - val_loss: 56.7848 - val_mean_squared_error: 125.2610 - val_mape: 56.8023\n",
      "Epoch 28/64\n",
      "985/985 [==============================] - 2s 2ms/step - loss: 211692.0781 - mean_squared_error: 127.3847 - mape: 211665.2188 - val_loss: 56.5310 - val_mean_squared_error: 122.7543 - val_mape: 56.5314\n",
      "Epoch 29/64\n",
      "985/985 [==============================] - 2s 2ms/step - loss: 267558.3750 - mean_squared_error: 126.0373 - mape: 267524.4062 - val_loss: 56.4629 - val_mean_squared_error: 122.4776 - val_mape: 56.4651\n",
      "Epoch 30/64\n",
      "985/985 [==============================] - 2s 2ms/step - loss: 101733.9141 - mean_squared_error: 126.3724 - mape: 101721.0078 - val_loss: 57.1159 - val_mean_squared_error: 123.4892 - val_mape: 57.1254\n",
      "Epoch 31/64\n",
      "985/985 [==============================] - 2s 2ms/step - loss: 439354.8750 - mean_squared_error: 124.1629 - mape: 439299.1250 - val_loss: 55.9299 - val_mean_squared_error: 121.8634 - val_mape: 55.9329\n",
      "Epoch 32/64\n",
      "985/985 [==============================] - 2s 2ms/step - loss: 329109.2812 - mean_squared_error: 123.9813 - mape: 329067.5312 - val_loss: 56.2420 - val_mean_squared_error: 121.8093 - val_mape: 56.2411\n",
      "Epoch 33/64\n",
      "985/985 [==============================] - 2s 2ms/step - loss: 42724.4258 - mean_squared_error: 123.3981 - mape: 42719.0117 - val_loss: 55.9368 - val_mean_squared_error: 119.9207 - val_mape: 55.9500\n",
      "Epoch 34/64\n",
      "985/985 [==============================] - 2s 2ms/step - loss: 80957.3906 - mean_squared_error: 122.9540 - mape: 80947.1250 - val_loss: 55.9966 - val_mean_squared_error: 120.7744 - val_mape: 55.9929\n",
      "Epoch 35/64\n",
      "985/985 [==============================] - 2s 2ms/step - loss: 277114.6875 - mean_squared_error: 121.2566 - mape: 277079.5312 - val_loss: 55.3737 - val_mean_squared_error: 118.6000 - val_mape: 55.3822\n",
      "Epoch 36/64\n",
      "985/985 [==============================] - 2s 2ms/step - loss: 17006.3457 - mean_squared_error: 121.5151 - mape: 17004.1934 - val_loss: 55.8995 - val_mean_squared_error: 117.6919 - val_mape: 55.9022\n",
      "Epoch 37/64\n",
      "985/985 [==============================] - 2s 2ms/step - loss: 4140.7432 - mean_squared_error: 121.2818 - mape: 4140.2251 - val_loss: 55.2608 - val_mean_squared_error: 118.9850 - val_mape: 55.2849\n",
      "Epoch 38/64\n",
      "985/985 [==============================] - 2s 2ms/step - loss: 1926.2410 - mean_squared_error: 120.2164 - mape: 1926.0038 - val_loss: 55.2606 - val_mean_squared_error: 116.9061 - val_mape: 55.3161\n",
      "Epoch 39/64\n"
     ]
    },
    {
     "name": "stdout",
     "output_type": "stream",
     "text": [
      "985/985 [==============================] - 2s 2ms/step - loss: 57222.4414 - mean_squared_error: 120.5645 - mape: 57215.1875 - val_loss: 55.4119 - val_mean_squared_error: 119.8175 - val_mape: 55.4502\n",
      "Epoch 40/64\n",
      "985/985 [==============================] - 2s 2ms/step - loss: 18754.9258 - mean_squared_error: 120.5827 - mape: 18752.5547 - val_loss: 56.0636 - val_mean_squared_error: 118.5592 - val_mape: 56.0927\n",
      "Epoch 41/64\n",
      "985/985 [==============================] - 2s 2ms/step - loss: 284363.8750 - mean_squared_error: 120.9141 - mape: 284327.8438 - val_loss: 55.1670 - val_mean_squared_error: 117.1601 - val_mape: 55.1668\n",
      "Epoch 42/64\n",
      "985/985 [==============================] - 2s 2ms/step - loss: 89836.3594 - mean_squared_error: 119.6158 - mape: 89824.9688 - val_loss: 54.8907 - val_mean_squared_error: 116.2936 - val_mape: 54.8889\n",
      "Epoch 43/64\n",
      "985/985 [==============================] - 2s 2ms/step - loss: 24606.6016 - mean_squared_error: 119.1704 - mape: 24603.4824 - val_loss: 55.7083 - val_mean_squared_error: 118.4360 - val_mape: 55.7085\n",
      "Epoch 44/64\n",
      "985/985 [==============================] - 2s 2ms/step - loss: 14440.9297 - mean_squared_error: 121.2448 - mape: 14439.1045 - val_loss: 55.5341 - val_mean_squared_error: 118.1645 - val_mape: 55.5460\n",
      "Epoch 45/64\n",
      "985/985 [==============================] - 2s 2ms/step - loss: 18086.7578 - mean_squared_error: 119.9059 - mape: 18084.4688 - val_loss: 55.2587 - val_mean_squared_error: 118.2509 - val_mape: 55.2667\n",
      "Epoch 46/64\n",
      "985/985 [==============================] - 2s 2ms/step - loss: 2813.4341 - mean_squared_error: 120.7685 - mape: 2813.0845 - val_loss: 55.3046 - val_mean_squared_error: 117.5872 - val_mape: 55.3205\n",
      "Epoch 47/64\n",
      "985/985 [==============================] - 2s 2ms/step - loss: 13547.9033 - mean_squared_error: 119.3182 - mape: 13546.1904 - val_loss: 55.0420 - val_mean_squared_error: 117.3621 - val_mape: 55.0622\n",
      "Epoch 48/64\n",
      "985/985 [==============================] - 2s 2ms/step - loss: 1070.2081 - mean_squared_error: 119.5571 - mape: 1070.0927 - val_loss: 54.9258 - val_mean_squared_error: 116.1959 - val_mape: 54.9506\n",
      "Restoring model weights from the end of the best epoch.\n",
      "Epoch 00048: early stopping\n"
     ]
    }
   ],
   "source": [
    "model = make_model()\n",
    "\n",
    "history = model.fit(\n",
    "        train_features, \n",
    "        train_labels,\n",
    "        validation_split=0.2, \n",
    "        epochs=64,\n",
    "        callbacks=[early_stopping])\n",
    "\n"
   ]
  },
  {
   "cell_type": "code",
   "execution_count": null,
   "metadata": {},
   "outputs": [],
   "source": []
  },
  {
   "cell_type": "code",
   "execution_count": 75,
   "metadata": {},
   "outputs": [
    {
     "name": "stdout",
     "output_type": "stream",
     "text": [
      "Evaluate on test data\n",
      "77/77 [==============================] - 0s 2ms/step - loss: 56.0946 - mean_squared_error: 119.7758 - mape: 56.0905\n",
      "[56.09462356567383, 119.77584075927734, 56.09053039550781]\n"
     ]
    }
   ],
   "source": [
    "# Evaluate the model on the test data using `evaluate`\n",
    "print(\"Evaluate on test data\")\n",
    "results = model.evaluate(test_features, test_labels, batch_size=128)\n",
    "print(results)"
   ]
  },
  {
   "cell_type": "code",
   "execution_count": 81,
   "metadata": {},
   "outputs": [
    {
     "data": {
      "image/png": "[encoded data removed]",
      "text/plain": [
       "<Figure size 432x288 with 1 Axes>"
      ]
     },
     "metadata": {
      "needs_background": "light"
     },
     "output_type": "display_data"
    }
   ],
   "source": [
    "def plot_loss(history):\n",
    "    plt.plot(history.history['loss'], label='loss')\n",
    "    plt.plot(history.history['val_loss'], label='val_loss')\n",
    "    plt.ylim([0, 10])\n",
    "    plt.xlabel('Epoch')\n",
    "    plt.ylabel('Error [length_of_stay]')\n",
    "    plt.legend()\n",
    "    plt.grid(True)\n",
    "\n",
    "plot_loss(history)"
   ]
  },
  {
   "cell_type": "code",
   "execution_count": 77,
   "metadata": {},
   "outputs": [],
   "source": [
    "predictions = model.predict(test_features).T[0]"
   ]
  },
  {
   "cell_type": "code",
   "execution_count": 83,
   "metadata": {},
   "outputs": [
    {
     "name": "stderr",
     "output_type": "stream",
     "text": [
      "/home/juliuswa/installed/apache-tomcat-9.0.30/anaconda3/envs/pyML/lib/python3.9/site-packages/seaborn/_decorators.py:36: FutureWarning: Pass the following variables as keyword args: x, y, data. From version 0.12, the only valid positional argument will be `data`, and passing other arguments without an explicit keyword will result in an error or misinterpretation.\n",
      "  warnings.warn(\n"
     ]
    },
    {
     "data": {
      "image/png": "[encoded data removed]",
      "text/plain": [
       "<Figure size 432x432 with 3 Axes>"
      ]
     },
     "metadata": {
      "needs_background": "light"
     },
     "output_type": "display_data"
    }
   ],
   "source": [
    "h = sns.jointplot(test_labels, predictions, test_labels, kind='hex', gridsize=150, xlim=(0,30), ylim=(0,30))\n",
    "h.set_axis_labels('real length of stay', 'predicted length of stay', fontsize=16)\n",
    "plt.suptitle(f\"{model_name}\")\n",
    "\n",
    "plt.savefig(f\"{model_path}/prediction_{model_name}.png\")"
   ]
  },
  {
   "cell_type": "code",
   "execution_count": 79,
   "metadata": {},
   "outputs": [],
   "source": [
    "errors = predictions - test_labels"
   ]
  },
  {
   "cell_type": "code",
   "execution_count": 80,
   "metadata": {},
   "outputs": [
    {
     "data": {
      "image/png": "[encoded data removed]",
      "text/plain": [
       "<Figure size 432x288 with 1 Axes>"
      ]
     },
     "metadata": {
      "needs_background": "light"
     },
     "output_type": "display_data"
    }
   ],
   "source": [
    "plt.hist(errors, bins=100, range=(-25, 25))\n",
    "plt.show()"
   ]
  },
  {
   "cell_type": "code",
   "execution_count": 53,
   "metadata": {},
   "outputs": [
    {
     "name": "stdout",
     "output_type": "stream",
     "text": [
      "INFO:tensorflow:Assets written to: ../../RoboDocData/95/df95_losh_n32/df95_losh_n32/assets\n"
     ]
    }
   ],
   "source": [
    "model.save(f\"{model_path}/{model_name}\")"
   ]
  }
 ],
 "metadata": {
  "kernelspec": {
   "display_name": "Python 3",
   "language": "python",
   "name": "python3"
  },
  "language_info": {
   "codemirror_mode": {
    "name": "ipython",
    "version": 3
   },
   "file_extension": ".py",
   "mimetype": "text/x-python",
   "name": "python",
   "nbconvert_exporter": "python",
   "pygments_lexer": "ipython3",
   "version": "3.9.4"
  }
 },
 "nbformat": 4,
 "nbformat_minor": 4
}
